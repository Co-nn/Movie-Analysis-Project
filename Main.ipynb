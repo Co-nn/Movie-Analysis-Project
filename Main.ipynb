{
 "cells": [
  {
   "cell_type": "markdown",
   "metadata": {},
   "source": [
    "# Movie Analysis Project\n",
    "**Authors:** Connor McClain & Cooper McCombs"
   ]
  },
  {
   "cell_type": "markdown",
   "metadata": {},
   "source": [
    "# Overview\n",
    "\n",
    "The movie business is a multibillion dollar industry that estimated to have made roughly 36.8 billion as of 2021. On average, movies made in the U.S tend to make around 373.2 million worldwide. While money is important, popularity and ratings are what sustain a business. If a company is popular, money will follow. Using Python, we extracted data from movie websites to produce models on what makes movies well-liked among the public. Sorting the data by genre, we were able to showcase the most popular genres and their characteristics. This notebook is expected to be used as refrence material for the creation of movies and specificaly Microsoft Movies Studios. \n",
    "\n",
    "\n",
    "# Introduction to the Problem\n",
    "\n",
    "Microsoft is planning on creating a movie company and needs help to figure out what kinds of films they should produce. Using the data we found from IMDB (Internet Movie Database), TMDB (The Movie Database), and The Numbers website, we explored what types of movies were the most important to make. Then, proceeded to implement this data into graphs that conveyed the important traits of an average film. With this, we are able to portray to Microsoft that they should focus on popularity rather than profit.\n",
    "\n",
    "# Data Understanding\n",
    "\n",
    "We used the [Internet Movie Database(imdb)](https://www.imdb.com/), [The Movie Database(tmdb)](https://www.themoviedb.org/?language=en-US) and [The numbers(tn)](https://www.the-numbers.com/). These sources are usefull for this research due to these sources being well acredited movie databases.\n",
    "\n",
    "# Data\n",
    "\n",
    " For this project, we used various sources of information to extract data that would represent my solution to Microsoft's problem. Then, we allocated this information on to different pandas dataframes based on its source. Not all data is clean and ready to go from the start. We had to remove all null values that would affect our models as well as clean through the columns of strings that we wanted to turn into integers (example: Production Budget). Our models correlated four different aspects of our solution for Microsoft: Genre based on highest average rating, genre based on highest average production budget, genre based on the ratio of the amount of movies already in that genre, and average runtime for each popular genre."
   ]
  },
  {
   "cell_type": "markdown",
   "metadata": {},
   "source": [
    "# Imports"
   ]
  },
  {
   "cell_type": "code",
   "execution_count": 64,
   "metadata": {},
   "outputs": [],
   "source": [
    "import pandas as pd\n",
    "import sqlite3 as sql\n",
    "import matplotlib.pyplot as plt\n",
    "import numpy as np\n",
    "import matplotlib.lines as lines\n",
    "from matplotlib.ticker import StrMethodFormatter\n",
    "import warnings"
   ]
  },
  {
   "cell_type": "markdown",
   "metadata": {},
   "source": [
    "### Cleaning Warnings"
   ]
  },
  {
   "cell_type": "code",
   "execution_count": 65,
   "metadata": {},
   "outputs": [],
   "source": [
    "warnings.filterwarnings(\"ignore\")"
   ]
  },
  {
   "cell_type": "markdown",
   "metadata": {},
   "source": [
    "## Importing Data"
   ]
  },
  {
   "cell_type": "code",
   "execution_count": 66,
   "metadata": {},
   "outputs": [],
   "source": [
    "budgets_df = pd.read_csv(\"../dsc-phase-1-project-v2-4/zippedData/tn.movie_budgets.csv.gz\", parse_dates=[\"release_date\"])"
   ]
  },
  {
   "cell_type": "code",
   "execution_count": 67,
   "metadata": {},
   "outputs": [],
   "source": [
    "tmdb_df = pd.read_csv(\"../dsc-phase-1-project-v2-4/zippedData/tmdb.movies.csv.gz\", parse_dates=[\"release_date\"])"
   ]
  },
  {
   "cell_type": "code",
   "execution_count": 68,
   "metadata": {},
   "outputs": [],
   "source": [
    "conn = sql.connect(\"../dsc-phase-1-project-v2-4/im.db\")"
   ]
  },
  {
   "cell_type": "code",
   "execution_count": 69,
   "metadata": {},
   "outputs": [],
   "source": [
    "imdb_df = pd.read_sql(\"SELECT * FROM movie_basics\", conn)"
   ]
  },
  {
   "cell_type": "markdown",
   "metadata": {},
   "source": [
    "## Observing Imported Data"
   ]
  },
  {
   "cell_type": "markdown",
   "metadata": {},
   "source": [
    "We can see in budgets_df that budget cleaned and turned into integers and if we want to merge with tmdb_df movie most be turned into title. There are 5782 rows 6 columns no nulls."
   ]
  },
  {
   "cell_type": "code",
   "execution_count": 70,
   "metadata": {},
   "outputs": [
    {
     "data": {
      "text/html": [
       "<div>\n",
       "<style scoped>\n",
       "    .dataframe tbody tr th:only-of-type {\n",
       "        vertical-align: middle;\n",
       "    }\n",
       "\n",
       "    .dataframe tbody tr th {\n",
       "        vertical-align: top;\n",
       "    }\n",
       "\n",
       "    .dataframe thead th {\n",
       "        text-align: right;\n",
       "    }\n",
       "</style>\n",
       "<table border=\"1\" class=\"dataframe\">\n",
       "  <thead>\n",
       "    <tr style=\"text-align: right;\">\n",
       "      <th></th>\n",
       "      <th>id</th>\n",
       "      <th>release_date</th>\n",
       "      <th>movie</th>\n",
       "      <th>production_budget</th>\n",
       "      <th>domestic_gross</th>\n",
       "      <th>worldwide_gross</th>\n",
       "    </tr>\n",
       "  </thead>\n",
       "  <tbody>\n",
       "    <tr>\n",
       "      <th>0</th>\n",
       "      <td>1</td>\n",
       "      <td>2009-12-18</td>\n",
       "      <td>Avatar</td>\n",
       "      <td>$425,000,000</td>\n",
       "      <td>$760,507,625</td>\n",
       "      <td>$2,776,345,279</td>\n",
       "    </tr>\n",
       "    <tr>\n",
       "      <th>1</th>\n",
       "      <td>2</td>\n",
       "      <td>2011-05-20</td>\n",
       "      <td>Pirates of the Caribbean: On Stranger Tides</td>\n",
       "      <td>$410,600,000</td>\n",
       "      <td>$241,063,875</td>\n",
       "      <td>$1,045,663,875</td>\n",
       "    </tr>\n",
       "    <tr>\n",
       "      <th>2</th>\n",
       "      <td>3</td>\n",
       "      <td>2019-06-07</td>\n",
       "      <td>Dark Phoenix</td>\n",
       "      <td>$350,000,000</td>\n",
       "      <td>$42,762,350</td>\n",
       "      <td>$149,762,350</td>\n",
       "    </tr>\n",
       "  </tbody>\n",
       "</table>\n",
       "</div>"
      ],
      "text/plain": [
       "   id release_date                                        movie  \\\n",
       "0   1   2009-12-18                                       Avatar   \n",
       "1   2   2011-05-20  Pirates of the Caribbean: On Stranger Tides   \n",
       "2   3   2019-06-07                                 Dark Phoenix   \n",
       "\n",
       "  production_budget domestic_gross worldwide_gross  \n",
       "0      $425,000,000   $760,507,625  $2,776,345,279  \n",
       "1      $410,600,000   $241,063,875  $1,045,663,875  \n",
       "2      $350,000,000    $42,762,350    $149,762,350  "
      ]
     },
     "execution_count": 70,
     "metadata": {},
     "output_type": "execute_result"
    }
   ],
   "source": [
    "budgets_df.head(3)"
   ]
  },
  {
   "cell_type": "code",
   "execution_count": 71,
   "metadata": {},
   "outputs": [
    {
     "name": "stdout",
     "output_type": "stream",
     "text": [
      "<class 'pandas.core.frame.DataFrame'>\n",
      "RangeIndex: 5782 entries, 0 to 5781\n",
      "Data columns (total 6 columns):\n",
      " #   Column             Non-Null Count  Dtype         \n",
      "---  ------             --------------  -----         \n",
      " 0   id                 5782 non-null   int64         \n",
      " 1   release_date       5782 non-null   datetime64[ns]\n",
      " 2   movie              5782 non-null   object        \n",
      " 3   production_budget  5782 non-null   object        \n",
      " 4   domestic_gross     5782 non-null   object        \n",
      " 5   worldwide_gross    5782 non-null   object        \n",
      "dtypes: datetime64[ns](1), int64(1), object(4)\n",
      "memory usage: 271.2+ KB\n"
     ]
    }
   ],
   "source": [
    "budgets_df.info()"
   ]
  },
  {
   "cell_type": "markdown",
   "metadata": {},
   "source": [
    "In tmdb_df we must convert genre_ids string into a list then into the actual genres for better understanding. There are 26517 rows 10 columns no nulls."
   ]
  },
  {
   "cell_type": "code",
   "execution_count": 72,
   "metadata": {},
   "outputs": [
    {
     "data": {
      "text/html": [
       "<div>\n",
       "<style scoped>\n",
       "    .dataframe tbody tr th:only-of-type {\n",
       "        vertical-align: middle;\n",
       "    }\n",
       "\n",
       "    .dataframe tbody tr th {\n",
       "        vertical-align: top;\n",
       "    }\n",
       "\n",
       "    .dataframe thead th {\n",
       "        text-align: right;\n",
       "    }\n",
       "</style>\n",
       "<table border=\"1\" class=\"dataframe\">\n",
       "  <thead>\n",
       "    <tr style=\"text-align: right;\">\n",
       "      <th></th>\n",
       "      <th>Unnamed: 0</th>\n",
       "      <th>genre_ids</th>\n",
       "      <th>id</th>\n",
       "      <th>original_language</th>\n",
       "      <th>original_title</th>\n",
       "      <th>popularity</th>\n",
       "      <th>release_date</th>\n",
       "      <th>title</th>\n",
       "      <th>vote_average</th>\n",
       "      <th>vote_count</th>\n",
       "    </tr>\n",
       "  </thead>\n",
       "  <tbody>\n",
       "    <tr>\n",
       "      <th>0</th>\n",
       "      <td>0</td>\n",
       "      <td>[12, 14, 10751]</td>\n",
       "      <td>12444</td>\n",
       "      <td>en</td>\n",
       "      <td>Harry Potter and the Deathly Hallows: Part 1</td>\n",
       "      <td>33.533</td>\n",
       "      <td>2010-11-19</td>\n",
       "      <td>Harry Potter and the Deathly Hallows: Part 1</td>\n",
       "      <td>7.7</td>\n",
       "      <td>10788</td>\n",
       "    </tr>\n",
       "    <tr>\n",
       "      <th>1</th>\n",
       "      <td>1</td>\n",
       "      <td>[14, 12, 16, 10751]</td>\n",
       "      <td>10191</td>\n",
       "      <td>en</td>\n",
       "      <td>How to Train Your Dragon</td>\n",
       "      <td>28.734</td>\n",
       "      <td>2010-03-26</td>\n",
       "      <td>How to Train Your Dragon</td>\n",
       "      <td>7.7</td>\n",
       "      <td>7610</td>\n",
       "    </tr>\n",
       "    <tr>\n",
       "      <th>2</th>\n",
       "      <td>2</td>\n",
       "      <td>[12, 28, 878]</td>\n",
       "      <td>10138</td>\n",
       "      <td>en</td>\n",
       "      <td>Iron Man 2</td>\n",
       "      <td>28.515</td>\n",
       "      <td>2010-05-07</td>\n",
       "      <td>Iron Man 2</td>\n",
       "      <td>6.8</td>\n",
       "      <td>12368</td>\n",
       "    </tr>\n",
       "  </tbody>\n",
       "</table>\n",
       "</div>"
      ],
      "text/plain": [
       "   Unnamed: 0            genre_ids     id original_language  \\\n",
       "0           0      [12, 14, 10751]  12444                en   \n",
       "1           1  [14, 12, 16, 10751]  10191                en   \n",
       "2           2        [12, 28, 878]  10138                en   \n",
       "\n",
       "                                 original_title  popularity release_date  \\\n",
       "0  Harry Potter and the Deathly Hallows: Part 1      33.533   2010-11-19   \n",
       "1                      How to Train Your Dragon      28.734   2010-03-26   \n",
       "2                                    Iron Man 2      28.515   2010-05-07   \n",
       "\n",
       "                                          title  vote_average  vote_count  \n",
       "0  Harry Potter and the Deathly Hallows: Part 1           7.7       10788  \n",
       "1                      How to Train Your Dragon           7.7        7610  \n",
       "2                                    Iron Man 2           6.8       12368  "
      ]
     },
     "execution_count": 72,
     "metadata": {},
     "output_type": "execute_result"
    }
   ],
   "source": [
    "tmdb_df.head(3)"
   ]
  },
  {
   "cell_type": "code",
   "execution_count": 73,
   "metadata": {},
   "outputs": [
    {
     "name": "stdout",
     "output_type": "stream",
     "text": [
      "<class 'pandas.core.frame.DataFrame'>\n",
      "RangeIndex: 26517 entries, 0 to 26516\n",
      "Data columns (total 10 columns):\n",
      " #   Column             Non-Null Count  Dtype         \n",
      "---  ------             --------------  -----         \n",
      " 0   Unnamed: 0         26517 non-null  int64         \n",
      " 1   genre_ids          26517 non-null  object        \n",
      " 2   id                 26517 non-null  int64         \n",
      " 3   original_language  26517 non-null  object        \n",
      " 4   original_title     26517 non-null  object        \n",
      " 5   popularity         26517 non-null  float64       \n",
      " 6   release_date       26517 non-null  datetime64[ns]\n",
      " 7   title              26517 non-null  object        \n",
      " 8   vote_average       26517 non-null  float64       \n",
      " 9   vote_count         26517 non-null  int64         \n",
      "dtypes: datetime64[ns](1), float64(2), int64(3), object(4)\n",
      "memory usage: 2.0+ MB\n"
     ]
    }
   ],
   "source": [
    "tmdb_df.info()"
   ]
  },
  {
   "cell_type": "markdown",
   "metadata": {},
   "source": [
    "For the imdb_df we must explode the genres and removed the nulls from genres and runtime. There are 146144 rows 6 columns and 37168 nulls."
   ]
  },
  {
   "cell_type": "code",
   "execution_count": 74,
   "metadata": {},
   "outputs": [
    {
     "data": {
      "text/html": [
       "<div>\n",
       "<style scoped>\n",
       "    .dataframe tbody tr th:only-of-type {\n",
       "        vertical-align: middle;\n",
       "    }\n",
       "\n",
       "    .dataframe tbody tr th {\n",
       "        vertical-align: top;\n",
       "    }\n",
       "\n",
       "    .dataframe thead th {\n",
       "        text-align: right;\n",
       "    }\n",
       "</style>\n",
       "<table border=\"1\" class=\"dataframe\">\n",
       "  <thead>\n",
       "    <tr style=\"text-align: right;\">\n",
       "      <th></th>\n",
       "      <th>movie_id</th>\n",
       "      <th>primary_title</th>\n",
       "      <th>original_title</th>\n",
       "      <th>start_year</th>\n",
       "      <th>runtime_minutes</th>\n",
       "      <th>genres</th>\n",
       "    </tr>\n",
       "  </thead>\n",
       "  <tbody>\n",
       "    <tr>\n",
       "      <th>0</th>\n",
       "      <td>tt0063540</td>\n",
       "      <td>Sunghursh</td>\n",
       "      <td>Sunghursh</td>\n",
       "      <td>2013</td>\n",
       "      <td>175.0</td>\n",
       "      <td>Action,Crime,Drama</td>\n",
       "    </tr>\n",
       "    <tr>\n",
       "      <th>1</th>\n",
       "      <td>tt0066787</td>\n",
       "      <td>One Day Before the Rainy Season</td>\n",
       "      <td>Ashad Ka Ek Din</td>\n",
       "      <td>2019</td>\n",
       "      <td>114.0</td>\n",
       "      <td>Biography,Drama</td>\n",
       "    </tr>\n",
       "    <tr>\n",
       "      <th>2</th>\n",
       "      <td>tt0069049</td>\n",
       "      <td>The Other Side of the Wind</td>\n",
       "      <td>The Other Side of the Wind</td>\n",
       "      <td>2018</td>\n",
       "      <td>122.0</td>\n",
       "      <td>Drama</td>\n",
       "    </tr>\n",
       "  </tbody>\n",
       "</table>\n",
       "</div>"
      ],
      "text/plain": [
       "    movie_id                    primary_title              original_title  \\\n",
       "0  tt0063540                        Sunghursh                   Sunghursh   \n",
       "1  tt0066787  One Day Before the Rainy Season             Ashad Ka Ek Din   \n",
       "2  tt0069049       The Other Side of the Wind  The Other Side of the Wind   \n",
       "\n",
       "   start_year  runtime_minutes              genres  \n",
       "0        2013            175.0  Action,Crime,Drama  \n",
       "1        2019            114.0     Biography,Drama  \n",
       "2        2018            122.0               Drama  "
      ]
     },
     "execution_count": 74,
     "metadata": {},
     "output_type": "execute_result"
    }
   ],
   "source": [
    "imdb_df.head(3)"
   ]
  },
  {
   "cell_type": "code",
   "execution_count": 75,
   "metadata": {},
   "outputs": [
    {
     "name": "stdout",
     "output_type": "stream",
     "text": [
      "<class 'pandas.core.frame.DataFrame'>\n",
      "RangeIndex: 146144 entries, 0 to 146143\n",
      "Data columns (total 6 columns):\n",
      " #   Column           Non-Null Count   Dtype  \n",
      "---  ------           --------------   -----  \n",
      " 0   movie_id         146144 non-null  object \n",
      " 1   primary_title    146144 non-null  object \n",
      " 2   original_title   146123 non-null  object \n",
      " 3   start_year       146144 non-null  int64  \n",
      " 4   runtime_minutes  114405 non-null  float64\n",
      " 5   genres           140736 non-null  object \n",
      "dtypes: float64(1), int64(1), object(4)\n",
      "memory usage: 6.7+ MB\n"
     ]
    }
   ],
   "source": [
    "imdb_df.info()"
   ]
  },
  {
   "cell_type": "markdown",
   "metadata": {},
   "source": [
    "# Cleaning the Data"
   ]
  },
  {
   "cell_type": "markdown",
   "metadata": {},
   "source": [
    "We need to clean budgets_df, tmdb_df and imdb_df by removing nulls in primary catagories and converting columns into an usable format. Which includes converting genre_ids, budget columns and removing excess columns."
   ]
  },
  {
   "cell_type": "markdown",
   "metadata": {},
   "source": [
    "### Genre Id to Genre"
   ]
  },
  {
   "cell_type": "code",
   "execution_count": 76,
   "metadata": {},
   "outputs": [],
   "source": [
    "genre_id = {\n",
    "    \"Action\" : 28,\n",
    "    \"Adventure\" : 12,\n",
    "    \"Animation\" : 16,\n",
    "    \"Comedy\" : 35,\n",
    "    \"Crime\" : 80,\n",
    "    \"Documentary\" : 99,\n",
    "    \"Drama\" : 18,\n",
    "    \"Family\" : 10751,\n",
    "    \"Fantasy\" : 14,\n",
    "    \"History\" : 36,\n",
    "    \"Horror\" : 27,\n",
    "    \"Music\" : 10402,\n",
    "    \"Mystery\" : 9648,\n",
    "    \"Romance\" : 10749,\n",
    "    \"Science Fiction\" : 878,\n",
    "    \"TV Movie\" : 10770,\n",
    "    \"Thriller\" : 53,\n",
    "    \"War\" : 10752,\n",
    "    \"Western\" : 37,\n",
    "}"
   ]
  },
  {
   "cell_type": "code",
   "execution_count": 77,
   "metadata": {},
   "outputs": [],
   "source": [
    "genre_id = {str(y):str(x) for x,y in genre_id.items()}"
   ]
  },
  {
   "cell_type": "markdown",
   "metadata": {},
   "source": [
    "### Cleaning tmdb_df"
   ]
  },
  {
   "cell_type": "code",
   "execution_count": 78,
   "metadata": {},
   "outputs": [],
   "source": [
    "tmdb_df_clean = tmdb_df.copy()"
   ]
  },
  {
   "cell_type": "code",
   "execution_count": 79,
   "metadata": {},
   "outputs": [],
   "source": [
    "tmdb_df_clean[\"genre_ids\"] = tmdb_df[\"genre_ids\"].str.replace(\"]\",\"\").str.replace(\"[\",\"\").str.replace(\",\",\"\").str.split(\" \")\n",
    "# We did this to convert the genre_ids from a string into a list"
   ]
  },
  {
   "cell_type": "markdown",
   "metadata": {},
   "source": [
    "Now we only want movies from this data that have a vote count >= 1000"
   ]
  },
  {
   "cell_type": "code",
   "execution_count": 80,
   "metadata": {},
   "outputs": [],
   "source": [
    "tmdb_df_clean = tmdb_df_clean.loc[tmdb_df_clean[\"vote_count\"] >= 1000]"
   ]
  },
  {
   "cell_type": "code",
   "execution_count": 81,
   "metadata": {},
   "outputs": [],
   "source": [
    "tmdb_df_clean_weighted_avg = tmdb_df_clean.explode(column=\"genre_ids\")\n",
    "# This was done to turn genre_ids from a list into strings"
   ]
  },
  {
   "cell_type": "code",
   "execution_count": 82,
   "metadata": {},
   "outputs": [],
   "source": [
    "weighted_mean = lambda x: np.average(x, weights=tmdb_df_clean.loc[x.index, \"vote_count\"])\n",
    "\n",
    "# Used to get a weighted vote average\n",
    "weighted_avg = tmdb_df_clean.explode(column=\"genre_ids\").groupby(\"genre_ids\").agg(\n",
    "    sum_vote_count=(\"vote_count\", \"sum\"), \n",
    "    vote_weighted_mean=(\"vote_average\", weighted_mean)).reset_index()"
   ]
  },
  {
   "cell_type": "code",
   "execution_count": 83,
   "metadata": {},
   "outputs": [],
   "source": [
    "weighted_avg[\"genre_ids\"] = weighted_avg[\"genre_ids\"].map(genre_id)\n",
    "# mapping to numbers to Genres"
   ]
  },
  {
   "cell_type": "code",
   "execution_count": 84,
   "metadata": {},
   "outputs": [],
   "source": [
    "weighted_avg[\"count/vote_score\"] = (weighted_avg[\"sum_vote_count\"]/1000000) * weighted_avg[\"vote_weighted_mean\"]\n",
    "# Divided by 1000000 to keep numbers small"
   ]
  },
  {
   "cell_type": "code",
   "execution_count": 85,
   "metadata": {},
   "outputs": [],
   "source": [
    "top = weighted_avg.sort_values(\"count/vote_score\", ascending = False)"
   ]
  },
  {
   "cell_type": "markdown",
   "metadata": {},
   "source": [
    "### Cleaning budgets_df"
   ]
  },
  {
   "cell_type": "markdown",
   "metadata": {},
   "source": [
    "[Replace()](https://www.w3schools.com/python/ref_string_replace.asp) Where I found the replace function.\n"
   ]
  },
  {
   "cell_type": "markdown",
   "metadata": {},
   "source": [
    "[Markdown hyperlinking](https://www.youtube.com/watch?v=tYtPOq3AkmM) Where I learned how to hyperlink."
   ]
  },
  {
   "cell_type": "code",
   "execution_count": 86,
   "metadata": {},
   "outputs": [],
   "source": [
    "movie_budgets_df_clean = budgets_df.copy()"
   ]
  },
  {
   "cell_type": "code",
   "execution_count": 87,
   "metadata": {},
   "outputs": [],
   "source": [
    "movie_budgets_df_clean['worldwide_gross'] = movie_budgets_df_clean['worldwide_gross'].str.replace(\"$\", \"\").str.replace(\",\", \"\").astype(\"int64\")"
   ]
  },
  {
   "cell_type": "code",
   "execution_count": 88,
   "metadata": {},
   "outputs": [],
   "source": [
    "movie_budgets_df_clean['production_budget'] = movie_budgets_df_clean['production_budget'].str.replace(\"$\", \"\").str.replace(\",\", \"\").astype(\"int64\")"
   ]
  },
  {
   "cell_type": "markdown",
   "metadata": {},
   "source": [
    "### Cleaning budgets_df for merge with tmdb_df_clean"
   ]
  },
  {
   "cell_type": "code",
   "execution_count": 89,
   "metadata": {},
   "outputs": [],
   "source": [
    "m1 = budgets_df.copy()"
   ]
  },
  {
   "cell_type": "code",
   "execution_count": 90,
   "metadata": {},
   "outputs": [],
   "source": [
    "m1[\"title\"] = budgets_df[\"movie\"]\n",
    "# This was done to better merge with tmdb_df_clean"
   ]
  },
  {
   "cell_type": "code",
   "execution_count": 91,
   "metadata": {},
   "outputs": [],
   "source": [
    "m1 = m1.drop(columns=[\"id\", \"domestic_gross\", \"worldwide_gross\", \"movie\"])\n",
    "# This was done to better merge with tmdb_df_clean"
   ]
  },
  {
   "cell_type": "markdown",
   "metadata": {},
   "source": [
    "### Merging budgets_df and tmdb_df_clean"
   ]
  },
  {
   "cell_type": "code",
   "execution_count": 92,
   "metadata": {},
   "outputs": [],
   "source": [
    "gm_df = tmdb_df_clean.merge(m1, how=\"inner\")"
   ]
  },
  {
   "cell_type": "code",
   "execution_count": 93,
   "metadata": {},
   "outputs": [],
   "source": [
    "gm_df = gm_df.drop(columns=[\"Unnamed: 0\", \"id\", \"original_language\", \"original_title\", \"popularity\", \"release_date\", \"title\"])\n",
    "# Dropping unused columns"
   ]
  },
  {
   "cell_type": "code",
   "execution_count": 94,
   "metadata": {},
   "outputs": [],
   "source": [
    "gm_genre_df = gm_df.explode(\"genre_ids\")\n",
    "# This was done to turn genre_ids from a list into strings"
   ]
  },
  {
   "cell_type": "code",
   "execution_count": 95,
   "metadata": {},
   "outputs": [],
   "source": [
    "gm_genre_df[\"genre_ids\"] = gm_genre_df[\"genre_ids\"].map(genre_id)\n",
    "# mapping to numbers to Genres"
   ]
  },
  {
   "cell_type": "code",
   "execution_count": 96,
   "metadata": {},
   "outputs": [],
   "source": [
    "gm_genre_df[\"production_budget\"] = gm_genre_df[\"production_budget\"].str.replace(\"$\",\"\").str.replace(\",\",\"\")\n",
    "#cleaning money string to turn into int"
   ]
  },
  {
   "cell_type": "code",
   "execution_count": 97,
   "metadata": {},
   "outputs": [],
   "source": [
    "gm_genre_df[\"production_budget\"] = gm_genre_df[\"production_budget\"].astype(int)\n",
    "# turned into int"
   ]
  },
  {
   "cell_type": "code",
   "execution_count": 98,
   "metadata": {},
   "outputs": [],
   "source": [
    "gm_genre_avg = gm_genre_df.groupby(\"genre_ids\").mean().reset_index()\n",
    "#Grouped to find mean"
   ]
  },
  {
   "cell_type": "code",
   "execution_count": 99,
   "metadata": {},
   "outputs": [],
   "source": [
    "top_gm_genre_avg = gm_genre_avg.sort_values(\"production_budget\", ascending = False)"
   ]
  },
  {
   "cell_type": "markdown",
   "metadata": {},
   "source": [
    "### Cleaning TMDB into top 6"
   ]
  },
  {
   "cell_type": "code",
   "execution_count": 100,
   "metadata": {},
   "outputs": [],
   "source": [
    "mpy = tmdb_df_clean.explode(column = \"genre_ids\").groupby(['genre_ids']).agg(\n",
    "    movies_produced = ('id', 'count')).reset_index()\n",
    "# This was done to turn genre_ids from a list into strings"
   ]
  },
  {
   "cell_type": "code",
   "execution_count": 101,
   "metadata": {},
   "outputs": [],
   "source": [
    "top_6 = mpy.sort_values('movies_produced', ascending = False)\n",
    "#sorting values"
   ]
  },
  {
   "cell_type": "code",
   "execution_count": 102,
   "metadata": {},
   "outputs": [],
   "source": [
    "top_6['genre_ids'] = top_6['genre_ids'].map(genre_id)\n",
    "# mapping to numbers to Genres"
   ]
  },
  {
   "cell_type": "code",
   "execution_count": 103,
   "metadata": {},
   "outputs": [],
   "source": [
    "top_6['percent'] = top_6['movies_produced']/sum(top_6['movies_produced'])\n",
    "top_6['percent'] = top_6['percent'] * 100\n",
    "#Turning count to percent"
   ]
  },
  {
   "cell_type": "markdown",
   "metadata": {},
   "source": [
    "### Cleaning IMDB"
   ]
  },
  {
   "cell_type": "code",
   "execution_count": 104,
   "metadata": {},
   "outputs": [],
   "source": [
    "imdb_df_clean = imdb_df.copy()"
   ]
  },
  {
   "cell_type": "code",
   "execution_count": 105,
   "metadata": {},
   "outputs": [],
   "source": [
    "imdb_df_clean = imdb_df.dropna(subset = ['runtime_minutes', 'genres'])\n",
    "#dropping nulls"
   ]
  },
  {
   "cell_type": "code",
   "execution_count": 106,
   "metadata": {},
   "outputs": [],
   "source": [
    "imdb_df_clean[\"genres\"] = imdb_df_clean[\"genres\"].str.replace(\",\", \" \").str.split(\" \")\n",
    "#Fixing Genre id"
   ]
  },
  {
   "cell_type": "code",
   "execution_count": 107,
   "metadata": {},
   "outputs": [],
   "source": [
    "imdb_df_clean = imdb_df_clean.explode(column = \"genres\").groupby(\"genres\").mean().reset_index()\n",
    "#Mapping Genre id from number to genres"
   ]
  },
  {
   "cell_type": "code",
   "execution_count": 108,
   "metadata": {},
   "outputs": [],
   "source": [
    "top_6_avg_runtimes = imdb_df_clean.loc[(imdb_df_clean['genres'] == 'Drama') |\n",
    "                 ( imdb_df_clean['genres'] == 'Action') |\n",
    "                  (imdb_df_clean['genres'] == 'Comedy') |\n",
    "                  (imdb_df_clean['genres'] == 'Thriller') |\n",
    "                  (imdb_df_clean['genres'] == 'Adventure') |\n",
    "                  (imdb_df_clean['genres'] == 'Sci-Fi')]\n",
    "#List of top 6 genres"
   ]
  },
  {
   "cell_type": "code",
   "execution_count": 109,
   "metadata": {},
   "outputs": [],
   "source": [
    "top_6_avg_runtimes = top_6_avg_runtimes.sort_values('runtime_minutes', ascending = False)\n",
    "# ordering top 6"
   ]
  },
  {
   "cell_type": "markdown",
   "metadata": {},
   "source": [
    "## Graph Lists"
   ]
  },
  {
   "cell_type": "code",
   "execution_count": 110,
   "metadata": {},
   "outputs": [],
   "source": [
    "las = [\"-$100 Million\",\"$0\", \"$100 Million\", \"$200 Million\", \"$300 Million\", \"$400 Million\"]"
   ]
  },
  {
   "cell_type": "code",
   "execution_count": 111,
   "metadata": {},
   "outputs": [],
   "source": [
    "los = [\"$0\", \"$20 Million\", \"$40 Million\", \"$60 Million\", \"$80 Million\", \"$100 Million\", \"$120 Million\", \"$140 Million\"]"
   ]
  },
  {
   "cell_type": "markdown",
   "metadata": {},
   "source": [
    "# Data Analysis"
   ]
  },
  {
   "cell_type": "markdown",
   "metadata": {},
   "source": [
    "## .Describes() of clean data"
   ]
  },
  {
   "cell_type": "code",
   "execution_count": 112,
   "metadata": {},
   "outputs": [
    {
     "data": {
      "text/html": [
       "<div>\n",
       "<style scoped>\n",
       "    .dataframe tbody tr th:only-of-type {\n",
       "        vertical-align: middle;\n",
       "    }\n",
       "\n",
       "    .dataframe tbody tr th {\n",
       "        vertical-align: top;\n",
       "    }\n",
       "\n",
       "    .dataframe thead th {\n",
       "        text-align: right;\n",
       "    }\n",
       "</style>\n",
       "<table border=\"1\" class=\"dataframe\">\n",
       "  <thead>\n",
       "    <tr style=\"text-align: right;\">\n",
       "      <th></th>\n",
       "      <th>sum_vote_count</th>\n",
       "      <th>vote_weighted_mean</th>\n",
       "      <th>count/vote_score</th>\n",
       "    </tr>\n",
       "  </thead>\n",
       "  <tbody>\n",
       "    <tr>\n",
       "      <th>count</th>\n",
       "      <td>1.800000e+01</td>\n",
       "      <td>18.000000</td>\n",
       "      <td>18.000000</td>\n",
       "    </tr>\n",
       "    <tr>\n",
       "      <th>mean</th>\n",
       "      <td>6.563988e+05</td>\n",
       "      <td>7.014843</td>\n",
       "      <td>4.553231</td>\n",
       "    </tr>\n",
       "    <tr>\n",
       "      <th>std</th>\n",
       "      <td>5.528923e+05</td>\n",
       "      <td>0.274382</td>\n",
       "      <td>3.823246</td>\n",
       "    </tr>\n",
       "    <tr>\n",
       "      <th>min</th>\n",
       "      <td>3.022000e+03</td>\n",
       "      <td>6.408173</td>\n",
       "      <td>0.020936</td>\n",
       "    </tr>\n",
       "    <tr>\n",
       "      <th>25%</th>\n",
       "      <td>1.959418e+05</td>\n",
       "      <td>6.877193</td>\n",
       "      <td>1.373326</td>\n",
       "    </tr>\n",
       "    <tr>\n",
       "      <th>50%</th>\n",
       "      <td>4.799885e+05</td>\n",
       "      <td>6.917266</td>\n",
       "      <td>3.333996</td>\n",
       "    </tr>\n",
       "    <tr>\n",
       "      <th>75%</th>\n",
       "      <td>1.045250e+06</td>\n",
       "      <td>7.208073</td>\n",
       "      <td>7.166967</td>\n",
       "    </tr>\n",
       "    <tr>\n",
       "      <th>max</th>\n",
       "      <td>1.717990e+06</td>\n",
       "      <td>7.447277</td>\n",
       "      <td>11.678210</td>\n",
       "    </tr>\n",
       "  </tbody>\n",
       "</table>\n",
       "</div>"
      ],
      "text/plain": [
       "       sum_vote_count  vote_weighted_mean  count/vote_score\n",
       "count    1.800000e+01           18.000000         18.000000\n",
       "mean     6.563988e+05            7.014843          4.553231\n",
       "std      5.528923e+05            0.274382          3.823246\n",
       "min      3.022000e+03            6.408173          0.020936\n",
       "25%      1.959418e+05            6.877193          1.373326\n",
       "50%      4.799885e+05            6.917266          3.333996\n",
       "75%      1.045250e+06            7.208073          7.166967\n",
       "max      1.717990e+06            7.447277         11.678210"
      ]
     },
     "execution_count": 112,
     "metadata": {},
     "output_type": "execute_result"
    }
   ],
   "source": [
    "top.describe()"
   ]
  },
  {
   "cell_type": "code",
   "execution_count": 113,
   "metadata": {},
   "outputs": [
    {
     "data": {
      "text/html": [
       "<div>\n",
       "<style scoped>\n",
       "    .dataframe tbody tr th:only-of-type {\n",
       "        vertical-align: middle;\n",
       "    }\n",
       "\n",
       "    .dataframe tbody tr th {\n",
       "        vertical-align: top;\n",
       "    }\n",
       "\n",
       "    .dataframe thead th {\n",
       "        text-align: right;\n",
       "    }\n",
       "</style>\n",
       "<table border=\"1\" class=\"dataframe\">\n",
       "  <thead>\n",
       "    <tr style=\"text-align: right;\">\n",
       "      <th></th>\n",
       "      <th>vote_average</th>\n",
       "      <th>vote_count</th>\n",
       "      <th>production_budget</th>\n",
       "    </tr>\n",
       "  </thead>\n",
       "  <tbody>\n",
       "    <tr>\n",
       "      <th>count</th>\n",
       "      <td>17.000000</td>\n",
       "      <td>17.000000</td>\n",
       "      <td>1.700000e+01</td>\n",
       "    </tr>\n",
       "    <tr>\n",
       "      <th>mean</th>\n",
       "      <td>6.695425</td>\n",
       "      <td>4136.395982</td>\n",
       "      <td>7.575077e+07</td>\n",
       "    </tr>\n",
       "    <tr>\n",
       "      <th>std</th>\n",
       "      <td>0.270252</td>\n",
       "      <td>1342.468959</td>\n",
       "      <td>3.567693e+07</td>\n",
       "    </tr>\n",
       "    <tr>\n",
       "      <th>min</th>\n",
       "      <td>6.110112</td>\n",
       "      <td>2460.617647</td>\n",
       "      <td>3.303483e+07</td>\n",
       "    </tr>\n",
       "    <tr>\n",
       "      <th>25%</th>\n",
       "      <td>6.543946</td>\n",
       "      <td>3173.692308</td>\n",
       "      <td>4.599930e+07</td>\n",
       "    </tr>\n",
       "    <tr>\n",
       "      <th>50%</th>\n",
       "      <td>6.635780</td>\n",
       "      <td>3639.187500</td>\n",
       "      <td>6.154843e+07</td>\n",
       "    </tr>\n",
       "    <tr>\n",
       "      <th>75%</th>\n",
       "      <td>6.903311</td>\n",
       "      <td>4892.395604</td>\n",
       "      <td>1.138788e+08</td>\n",
       "    </tr>\n",
       "    <tr>\n",
       "      <th>max</th>\n",
       "      <td>7.166667</td>\n",
       "      <td>7306.222222</td>\n",
       "      <td>1.354542e+08</td>\n",
       "    </tr>\n",
       "  </tbody>\n",
       "</table>\n",
       "</div>"
      ],
      "text/plain": [
       "       vote_average   vote_count  production_budget\n",
       "count     17.000000    17.000000       1.700000e+01\n",
       "mean       6.695425  4136.395982       7.575077e+07\n",
       "std        0.270252  1342.468959       3.567693e+07\n",
       "min        6.110112  2460.617647       3.303483e+07\n",
       "25%        6.543946  3173.692308       4.599930e+07\n",
       "50%        6.635780  3639.187500       6.154843e+07\n",
       "75%        6.903311  4892.395604       1.138788e+08\n",
       "max        7.166667  7306.222222       1.354542e+08"
      ]
     },
     "execution_count": 113,
     "metadata": {},
     "output_type": "execute_result"
    }
   ],
   "source": [
    "top_gm_genre_avg.describe()"
   ]
  },
  {
   "cell_type": "code",
   "execution_count": 114,
   "metadata": {},
   "outputs": [
    {
     "data": {
      "text/html": [
       "<div>\n",
       "<style scoped>\n",
       "    .dataframe tbody tr th:only-of-type {\n",
       "        vertical-align: middle;\n",
       "    }\n",
       "\n",
       "    .dataframe tbody tr th {\n",
       "        vertical-align: top;\n",
       "    }\n",
       "\n",
       "    .dataframe thead th {\n",
       "        text-align: right;\n",
       "    }\n",
       "</style>\n",
       "<table border=\"1\" class=\"dataframe\">\n",
       "  <thead>\n",
       "    <tr style=\"text-align: right;\">\n",
       "      <th></th>\n",
       "      <th>movies_produced</th>\n",
       "    </tr>\n",
       "  </thead>\n",
       "  <tbody>\n",
       "    <tr>\n",
       "      <th>count</th>\n",
       "      <td>18.000000</td>\n",
       "    </tr>\n",
       "    <tr>\n",
       "      <th>mean</th>\n",
       "      <td>171.444444</td>\n",
       "    </tr>\n",
       "    <tr>\n",
       "      <th>std</th>\n",
       "      <td>137.357508</td>\n",
       "    </tr>\n",
       "    <tr>\n",
       "      <th>min</th>\n",
       "      <td>2.000000</td>\n",
       "    </tr>\n",
       "    <tr>\n",
       "      <th>25%</th>\n",
       "      <td>65.000000</td>\n",
       "    </tr>\n",
       "    <tr>\n",
       "      <th>50%</th>\n",
       "      <td>146.000000</td>\n",
       "    </tr>\n",
       "    <tr>\n",
       "      <th>75%</th>\n",
       "      <td>263.250000</td>\n",
       "    </tr>\n",
       "    <tr>\n",
       "      <th>max</th>\n",
       "      <td>478.000000</td>\n",
       "    </tr>\n",
       "  </tbody>\n",
       "</table>\n",
       "</div>"
      ],
      "text/plain": [
       "       movies_produced\n",
       "count        18.000000\n",
       "mean        171.444444\n",
       "std         137.357508\n",
       "min           2.000000\n",
       "25%          65.000000\n",
       "50%         146.000000\n",
       "75%         263.250000\n",
       "max         478.000000"
      ]
     },
     "execution_count": 114,
     "metadata": {},
     "output_type": "execute_result"
    }
   ],
   "source": [
    "mpy.describe()"
   ]
  },
  {
   "cell_type": "code",
   "execution_count": 115,
   "metadata": {},
   "outputs": [
    {
     "data": {
      "text/html": [
       "<div>\n",
       "<style scoped>\n",
       "    .dataframe tbody tr th:only-of-type {\n",
       "        vertical-align: middle;\n",
       "    }\n",
       "\n",
       "    .dataframe tbody tr th {\n",
       "        vertical-align: top;\n",
       "    }\n",
       "\n",
       "    .dataframe thead th {\n",
       "        text-align: right;\n",
       "    }\n",
       "</style>\n",
       "<table border=\"1\" class=\"dataframe\">\n",
       "  <thead>\n",
       "    <tr style=\"text-align: right;\">\n",
       "      <th></th>\n",
       "      <th>start_year</th>\n",
       "      <th>runtime_minutes</th>\n",
       "    </tr>\n",
       "  </thead>\n",
       "  <tbody>\n",
       "    <tr>\n",
       "      <th>count</th>\n",
       "      <td>27.000000</td>\n",
       "      <td>27.000000</td>\n",
       "    </tr>\n",
       "    <tr>\n",
       "      <th>mean</th>\n",
       "      <td>2014.453718</td>\n",
       "      <td>85.749716</td>\n",
       "    </tr>\n",
       "    <tr>\n",
       "      <th>std</th>\n",
       "      <td>0.633254</td>\n",
       "      <td>17.296116</td>\n",
       "    </tr>\n",
       "    <tr>\n",
       "      <th>min</th>\n",
       "      <td>2012.986220</td>\n",
       "      <td>16.400000</td>\n",
       "    </tr>\n",
       "    <tr>\n",
       "      <th>25%</th>\n",
       "      <td>2014.224497</td>\n",
       "      <td>80.806988</td>\n",
       "    </tr>\n",
       "    <tr>\n",
       "      <th>50%</th>\n",
       "      <td>2014.311430</td>\n",
       "      <td>87.136697</td>\n",
       "    </tr>\n",
       "    <tr>\n",
       "      <th>75%</th>\n",
       "      <td>2014.505060</td>\n",
       "      <td>94.316355</td>\n",
       "    </tr>\n",
       "    <tr>\n",
       "      <th>max</th>\n",
       "      <td>2016.300000</td>\n",
       "      <td>117.000000</td>\n",
       "    </tr>\n",
       "  </tbody>\n",
       "</table>\n",
       "</div>"
      ],
      "text/plain": [
       "        start_year  runtime_minutes\n",
       "count    27.000000        27.000000\n",
       "mean   2014.453718        85.749716\n",
       "std       0.633254        17.296116\n",
       "min    2012.986220        16.400000\n",
       "25%    2014.224497        80.806988\n",
       "50%    2014.311430        87.136697\n",
       "75%    2014.505060        94.316355\n",
       "max    2016.300000       117.000000"
      ]
     },
     "execution_count": 115,
     "metadata": {},
     "output_type": "execute_result"
    }
   ],
   "source": [
    "imdb_df_clean.describe()"
   ]
  },
  {
   "cell_type": "code",
   "execution_count": 116,
   "metadata": {},
   "outputs": [
    {
     "data": {
      "text/html": [
       "<div>\n",
       "<style scoped>\n",
       "    .dataframe tbody tr th:only-of-type {\n",
       "        vertical-align: middle;\n",
       "    }\n",
       "\n",
       "    .dataframe tbody tr th {\n",
       "        vertical-align: top;\n",
       "    }\n",
       "\n",
       "    .dataframe thead th {\n",
       "        text-align: right;\n",
       "    }\n",
       "</style>\n",
       "<table border=\"1\" class=\"dataframe\">\n",
       "  <thead>\n",
       "    <tr style=\"text-align: right;\">\n",
       "      <th></th>\n",
       "      <th>start_year</th>\n",
       "      <th>runtime_minutes</th>\n",
       "    </tr>\n",
       "  </thead>\n",
       "  <tbody>\n",
       "    <tr>\n",
       "      <th>count</th>\n",
       "      <td>6.000000</td>\n",
       "      <td>6.000000</td>\n",
       "    </tr>\n",
       "    <tr>\n",
       "      <th>mean</th>\n",
       "      <td>2014.364423</td>\n",
       "      <td>93.150477</td>\n",
       "    </tr>\n",
       "    <tr>\n",
       "      <th>std</th>\n",
       "      <td>0.110438</td>\n",
       "      <td>4.723604</td>\n",
       "    </tr>\n",
       "    <tr>\n",
       "      <th>min</th>\n",
       "      <td>2014.223693</td>\n",
       "      <td>85.782404</td>\n",
       "    </tr>\n",
       "    <tr>\n",
       "      <th>25%</th>\n",
       "      <td>2014.306788</td>\n",
       "      <td>91.390932</td>\n",
       "    </tr>\n",
       "    <tr>\n",
       "      <th>50%</th>\n",
       "      <td>2014.335922</td>\n",
       "      <td>94.100769</td>\n",
       "    </tr>\n",
       "    <tr>\n",
       "      <th>75%</th>\n",
       "      <td>2014.436983</td>\n",
       "      <td>94.333846</td>\n",
       "    </tr>\n",
       "    <tr>\n",
       "      <th>max</th>\n",
       "      <td>2014.523251</td>\n",
       "      <td>100.019729</td>\n",
       "    </tr>\n",
       "  </tbody>\n",
       "</table>\n",
       "</div>"
      ],
      "text/plain": [
       "        start_year  runtime_minutes\n",
       "count     6.000000         6.000000\n",
       "mean   2014.364423        93.150477\n",
       "std       0.110438         4.723604\n",
       "min    2014.223693        85.782404\n",
       "25%    2014.306788        91.390932\n",
       "50%    2014.335922        94.100769\n",
       "75%    2014.436983        94.333846\n",
       "max    2014.523251       100.019729"
      ]
     },
     "execution_count": 116,
     "metadata": {},
     "output_type": "execute_result"
    }
   ],
   "source": [
    "top_6_avg_runtimes.describe()"
   ]
  },
  {
   "cell_type": "markdown",
   "metadata": {},
   "source": [
    "## Graphs"
   ]
  },
  {
   "cell_type": "markdown",
   "metadata": {},
   "source": [
    "[ax.tick_params()](https://matplotlib.org/stable/api/_as_gen/matplotlib.axes.Axes.tick_params.html) Where I found ax.tick_params()."
   ]
  },
  {
   "cell_type": "markdown",
   "metadata": {},
   "source": [
    "The Vote/Count Score Graph represents the relationship between genre type and vote count score, showing the six most popular genres. The popular genres are colored orange to show that they are different from the other genres and are used in all the graphs."
   ]
  },
  {
   "cell_type": "code",
   "execution_count": 117,
   "metadata": {},
   "outputs": [
    {
     "data": {
      "image/png": "[encoded data removed]",
      "text/plain": [
       "<Figure size 1080x432 with 1 Axes>"
      ]
     },
     "metadata": {
      "needs_background": "light"
     },
     "output_type": "display_data"
    }
   ],
   "source": [
    "fig, ax = plt.subplots(figsize=(15,6))\n",
    "palet =plt.get_cmap(\"Set1\")\n",
    "ax.bar(x=top[\"genre_ids\"], height=top[\"count/vote_score\"], color=['#ff9140' if score > 6 else \"#004aad\" for score in top['count/vote_score']])\n",
    "\n",
    "ax.set_xlabel(\"Genre Type\", fontsize=20)\n",
    "ax.set_ylabel(\"Vote/Count Score\", fontsize=15)\n",
    "ax.set_title(\"Vote/Count Score Graph\", fontsize=30)\n",
    "fig.add_artist(lines.Line2D([.3935, .3935], [.12, .88]))\n",
    "plt.xticks(rotation=45)\n",
    "ax.tick_params(length=6, which=\"both\", labelsize=15)\n",
    "plt.savefig(\"Graphs/VoteCountScore.png\", bbox_inches=\"tight\")"
   ]
  },
  {
   "cell_type": "markdown",
   "metadata": {},
   "source": [
    "Average Budget Cost per Genre represents the average production budget of the six most popular genres."
   ]
  },
  {
   "cell_type": "code",
   "execution_count": 118,
   "metadata": {},
   "outputs": [
    {
     "data": {
      "image/png": "[encoded data removed]",
      "text/plain": [
       "<Figure size 1080x432 with 1 Axes>"
      ]
     },
     "metadata": {
      "needs_background": "light"
     },
     "output_type": "display_data"
    }
   ],
   "source": [
    "fig, ax = plt.subplots(figsize=(15,6))\n",
    "palet =plt.get_cmap(\"Set1\")\n",
    "ax.bar(x=top_gm_genre_avg[\"genre_ids\"], height=top_gm_genre_avg[\"production_budget\"], color=['#ff9140',\"#004aad\",\"#004aad\",'#ff9140',\"#004aad\",'#ff9140',\"#004aad\",\"#004aad\",'#ff9140',\"#004aad\",'#ff9140',\"#004aad\",'#ff9140',\"#004aad\",\"#004aad\",\"#004aad\",\"#004aad\",\"#004aad\"])\n",
    "\n",
    "ax.set_xlabel(\"Genre Type\", fontsize=20)\n",
    "ax.set_ylabel(\"Average Budget Cost\", fontsize=20)\n",
    "ax.set_title(\"Average Budget Cost per Genre\", fontsize=30)\n",
    "ax.set_yticklabels(los, minor=False)\n",
    "plt.xticks(rotation=45)\n",
    "ax.tick_params(length=6, which=\"both\", labelsize=15)\n",
    "plt.savefig(\"Graphs/Average_Budget_Cost_per_Genre.png\", bbox_inches=\"tight\")"
   ]
  },
  {
   "cell_type": "markdown",
   "metadata": {},
   "source": [
    "Top 6 Most Popular Genres to Produce graph represents the amount of movies produced in each genre by percent."
   ]
  },
  {
   "cell_type": "code",
   "execution_count": 119,
   "metadata": {},
   "outputs": [
    {
     "data": {
      "image/png": "[encoded data removed]",
      "text/plain": [
       "<Figure size 1080x432 with 1 Axes>"
      ]
     },
     "metadata": {
      "needs_background": "light"
     },
     "output_type": "display_data"
    }
   ],
   "source": [
    "fig, ax = plt.subplots(figsize = (15, 6))\n",
    "palette = plt.get_cmap('Set1')\n",
    "ax.bar(top_6['genre_ids'], top_6['percent'], color = ['#ff9140' if percent > 6 else \"#004aad\" for percent in top_6['percent']])\n",
    "ax.set_title(\"Top 6 Most Popular Genres to Produce\", fontsize = 30)\n",
    "ax.set_ylabel(\"Percent of Production\", fontsize = 20)\n",
    "ax.set_xlabel(\"Genre Type\", fontsize = 20)\n",
    "ax.tick_params(length = 6, which = ('both'))\n",
    "plt.xticks(rotation = 45, fontsize=15)\n",
    "plt.yticks(fontsize=15)\n",
    "# ax.set_yticklabels(PV, minor = False)\n",
    "ax.yaxis.set_major_formatter(StrMethodFormatter('{x:.0f}%'))\n",
    "plt.savefig(\"Graphs/Top_6_Most_Popular_Genres_to_Produce.png\", bbox_inches=\"tight\")\n",
    "plt.show()"
   ]
  },
  {
   "cell_type": "markdown",
   "metadata": {},
   "source": [
    "Genres by Average Runtime(minutes) graph represents the average runtime of each of the genres in popular genres."
   ]
  },
  {
   "cell_type": "code",
   "execution_count": 120,
   "metadata": {},
   "outputs": [
    {
     "data": {
      "image/png": "[encoded data removed]",
      "text/plain": [
       "<Figure size 1080x432 with 1 Axes>"
      ]
     },
     "metadata": {
      "needs_background": "light"
     },
     "output_type": "display_data"
    }
   ],
   "source": [
    "fig, ax = plt.subplots(figsize = (15, 6))\n",
    "palette = plt.get_cmap('Set1')\n",
    "ax.bar(top_6_avg_runtimes['genres'], top_6_avg_runtimes['runtime_minutes'], color = '#ff9140')\n",
    "ax.set_title(\"Genres by Average Runtime(minutes)\", fontsize=30)\n",
    "ax.set_ylabel(\"Average Runtime(minutes)\", fontsize=20)\n",
    "ax.set_xlabel(\"Genre Type\", fontsize=20)\n",
    "plt.xticks(fontsize=15)\n",
    "plt.yticks(fontsize=15)\n",
    "plt.savefig(\"Graphs/Genres_by_Average_Runtime(minutes).png\", bbox_inches=\"tight\")\n",
    "plt.show()"
   ]
  },
  {
   "cell_type": "markdown",
   "metadata": {},
   "source": [
    "Budget Cost per Average Vote graph shows that average vote is not strongly correlated with budget"
   ]
  },
  {
   "cell_type": "code",
   "execution_count": 121,
   "metadata": {},
   "outputs": [
    {
     "data": {
      "image/png": "[encoded data removed]",
      "text/plain": [
       "<Figure size 1080x432 with 1 Axes>"
      ]
     },
     "metadata": {
      "needs_background": "light"
     },
     "output_type": "display_data"
    }
   ],
   "source": [
    "fig, ax = plt.subplots(figsize=(15,6))\n",
    "palet =plt.get_cmap(\"Set1\")\n",
    "ax.scatter(y=gm_genre_df[\"vote_average\"], x=gm_genre_df[\"production_budget\"], color = '#ff9140')\n",
    "\n",
    "ax.set_xlabel(\"Production Budget\", fontsize=20)\n",
    "ax.set_ylabel(\"Average Vote\", fontsize=20)\n",
    "ax.set_title(\"Budget Cost per Average Vote\", fontsize=30)\n",
    "ax.set_xticklabels(las, minor=False)\n",
    "# ax.set_xticks(lis, minor=True)\n",
    "# ax.set_xticklabels(lis, minor=True)\n",
    "ax.tick_params(length=6, which=\"both\", labelsize=15)\n",
    "plt.savefig(\"Graphs/Budget_Cost_per_Average_Vote.png\", bbox_inches=\"tight\")"
   ]
  },
  {
   "cell_type": "markdown",
   "metadata": {},
   "source": [
    "Correlation Between Budget and Gross graph shows that there is a strong positive correlation between budget and worldwide gross"
   ]
  },
  {
   "cell_type": "code",
   "execution_count": 122,
   "metadata": {},
   "outputs": [
    {
     "data": {
      "image/png": "[encoded data removed]",
      "text/plain": [
       "<Figure size 1080x432 with 1 Axes>"
      ]
     },
     "metadata": {
      "needs_background": "light"
     },
     "output_type": "display_data"
    }
   ],
   "source": [
    "x = movie_budgets_df_clean['production_budget']/1000000\n",
    "y = movie_budgets_df_clean['worldwide_gross']/1000000\n",
    "palette = plt.get_cmap('Set1')\n",
    "fig, ax = plt.subplots(figsize = (15, 6))\n",
    "ax.scatter(x, y, color = '#ff9140')\n",
    "z = np.polyfit(x, y, 1)\n",
    "p = np.poly1d(z)\n",
    "plt.plot(x, p(x), color = 'blue')\n",
    "ax.set_title(\"Correlation Between Budget and Gross\", fontsize = 30)\n",
    "ax.set_ylabel(\"Worldwide Gross\", fontsize = 20)\n",
    "ax.set_xlabel(\"Production Budget\", fontsize = 20)\n",
    "plt.xticks(fontsize=15)\n",
    "plt.yticks(fontsize=15)\n",
    "ax.xaxis.set_major_formatter(StrMethodFormatter('${x:.2f} Million'))\n",
    "ax.yaxis.set_major_formatter(StrMethodFormatter('${x:.2f} Million'))\n",
    "plt.savefig(\"Graphs/Correlation_Between_Budget_and_Gross.png\", bbox_inches=\"tight\")\n",
    "plt.show()"
   ]
  },
  {
   "cell_type": "markdown",
   "metadata": {},
   "source": [
    "# Conclusion\n",
    "\n",
    "From our data we were able to conclude:\n",
    "- The top six most popular genres are: Action, Adventure, Comedy, Drama, Thriller, and Science Fiction\n",
    "- That 67% of all movies Microsoft should produce should be at least one of the popular genres from above.\n",
    "- Each movie should cost on average between $40 million and $140 million depending on the genre\n",
    "- Each movie should be on average between 85 to 100 minutes long depending on the genre\n",
    "\n",
    "These models give insight into how Microsoft should format their movies. By giving them the most popular genres and their average characteristics, Microsoft will be able to pick a genre and know how much it should cost, the frequency at which to make those movies, and around what runtime it should be."
   ]
  },
  {
   "cell_type": "markdown",
   "metadata": {},
   "source": [
    "# Future Work\n",
    "We ran out of time, but some ideas we had to further our solution were:\n",
    "- Comparing the popularity of adult rated movies to kid rated movies\n",
    "- What are the best actors to use based on the genre of the movie\n",
    "- What are the best directors based on the genre of the movie\n",
    "comparing the popularity of a series of movies to a stand along movie\n",
    "- Whether animated or real life films are more popular based on genre"
   ]
  },
  {
   "cell_type": "markdown",
   "metadata": {},
   "source": [
    "# For More Information\n",
    "- [Slide Presentation](https://github.com/Co-nn/Movie-Analysis-Project/blob/main/Cooper%20McCombs%20and%20Connor%20McClain.pdf)\n",
    "- [Internet Movie Database (IMDB)](https://www.imdb.com/)\n",
    "- [The Movie Database (TMDB)](https://www.themoviedb.org/?language=en-US)\n",
    "- [The Numbers (TN)](https://www.the-numbers.com/)\n",
    "- [How to Insert Hyperlinks](https://www.youtube.com/watch?v=tYtPOq3AkmM)\n",
    "- [ax.tick_params()](https://matplotlib.org/stable/api/_as_gen/matplotlib.axes.Axes.tick_params.html)\n",
    "- [Replace()](https://www.w3schools.com/python/ref_string_replace.asp)"
   ]
  },
  {
   "cell_type": "code",
   "execution_count": null,
   "metadata": {},
   "outputs": [],
   "source": []
  }
 ],
 "metadata": {
  "kernelspec": {
   "display_name": "Python (learn-env)",
   "language": "python",
   "name": "learn-env"
  },
  "language_info": {
   "codemirror_mode": {
    "name": "ipython",
    "version": 3
   },
   "file_extension": ".py",
   "mimetype": "text/x-python",
   "name": "python",
   "nbconvert_exporter": "python",
   "pygments_lexer": "ipython3",
   "version": "3.8.5"
  }
 },
 "nbformat": 4,
 "nbformat_minor": 4
}
